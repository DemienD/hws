
    {
      "cell_type": "markdown",
      "source": [
        "# Домашнее задание на тему «Этика ИИ»\n",
        "Обмани картиночную нейросеть двумя способами:\n",
        "\n",
        "1) измени картинку целиком, но так, чтобы это было незаметно для глаз;\n",
        "\n",
        "2) замени малую часть картинки на патч."
      ],
      "metadata": {
        "id": "xtlcFgXHCD7j"
      }
    },
    {
      "cell_type": "markdown",
      "source": [
        "## Подготовка\n",
        "\n",
        "Установим пакеты, необходимые для визуализации предсказаний нейросети."
      ],
      "metadata": {
        "id": "hJLnMsEz18WW"
      }
    },
    {
      "cell_type": "code",
      "source": [
        "# Пригодится для 1-го задания. Если делаешь 2-е, то можешь не запускать эту ячейку\n",
        "!pip install grad-cam captum --quiet"
      ],
      "metadata": {
        "id": "X0DktiEyUEfl"
      },
      "execution_count": null,
      "outputs": []
    },
    {
      "cell_type": "markdown",
      "source": [
        "В следующей ячейке установим NumPy 1.26.4 и перезапустим среду.\n",
        "\n",
        "Текущая среда отключится, а новая, с библиотекой Numpy 1.26.4, подключится. Все загруженные пакеты сохранятся. Отключение и перезапуск среды нужны для того, чтобы импортировалась правильная версия NumPy, а с версией 2.x.x пакеты для визуализации работать не будут.\n",
        "\n",
        "Имей в виду, что из-за этой ячейки не получится сделать `Run all`: команда не выполнится, потому что среда перезапустится."
      ],
      "metadata": {
        "id": "h1VnVkbuENRP"
      }
    },
    {
      "cell_type": "code",
      "source": [
        "# Установим более старую версию NumPy. С версией NumPy 2.x.x модель не работает\n",
        "!pip install \"numpy==1.26.4\" -- quiet\n",
        "\n",
        "# Перезапустим среду, чтобы можно было использовать новые версии пакетов. Все файлы сохранятся\n",
        "import os\n",
        "os.kill(os.getpid(), 9)"
      ],
      "metadata": {
        "id": "mfmeJ6dFrmdZ"
      },
      "execution_count": null,
      "outputs": []
    },
    {
      "cell_type": "markdown",
      "source": [
        "## Задание 1. Обман модели одной картинкой (5 баллов)\n",
        "Мы поработаем с нейросетью, предобученной на датасете Imagenet 1k. Этот датасет используется в задачах классификации и состоит из различных изображений, относящихся к 1000 классов.\n",
        "\n",
        "Твоя задача — обмануть нейросеть, изменив всю картинку.\n",
        "\n",
        "1. Создай функцию, которая приводит изображение к стандартному виду. (1 балл)\n",
        "2. Сделай функцию, с помощью которой можно получить top-k наиболее вероятных классов для изображения и вероятности этих классов. (1 балл)\n",
        "3. Измени веса изображения градиентным методом. (3 балла)\n",
        "\n",
        "Загрузим json \"индекс класса: название класса\". Он понадобится для интерпретации ответов нейросети."
      ],
      "metadata": {
        "id": "nO2aeXMRNhZ2"
      }
    },
    {
      "cell_type": "code",
      "source": [
        "!wget -q 'https://s3.amazonaws.com/deep-learning-models/image-models/imagenet_class_index.json' -O imagenet_class_index.json"
      ],
      "metadata": {
        "id": "MCXcUVcnNjAL"
      },
      "execution_count": null,
      "outputs": []
    },
    {
      "cell_type": "code",
      "source": [
        "# Импортируй пакеты, которые пригодятся для задания 1\n",
        "\n",
        "import os\n",
        "import json\n",
        "\n",
        "import numpy as np\n",
        "\n",
        "from matplotlib import pylab as P\n",
        "import matplotlib.pyplot as plt\n",
        "from PIL import Image\n",
        "\n",
        "import torch\n",
        "import torch.nn as nn\n",
        "from torch.optim import Adam\n",
        "from torch.autograd import Variable\n",
        "import torch.nn.functional as F\n",
        "from torchvision import transforms, models\n",
        "\n",
        "from captum.attr import IntegratedGradients"
      ],
      "metadata": {
        "id": "k4ZH6sG7Xm9J"
      },
      "execution_count": null,
      "outputs": []
    },
    {
      "cell_type": "code",
      "source": [
        "# Определяем, что хотим использовать видеокарту, если она доступна\n",
        "device = torch.device(\"cuda\" if torch.cuda.is_available() else \"cpu\")\n",
        "\n",
        "# Загружаем предобученную модель c весами для Imagenet 1K. Датасет для классификации на 1000 классов\n",
        "model = models.resnet18(weights=\"ResNet18_Weights.DEFAULT\") # https://pytorch.org/vision/main/models/generated/torchvision.models.resnet18.html\n",
        "\n",
        "# Распаковываем json и форматируем для удобства работы. Пригодится для получения баллов в ДЗ\n",
        "idx2label, cls2label, cls2idx = [], {}, {}\n",
        "with open(os.path.abspath(\"/content/imagenet_class_index.json\"), \"r\") as read_file:\n",
        "    class_idx = json.load(read_file)\n",
        "    idx2label = [class_idx[str(k)][1] for k in range(len(class_idx))]\n",
        "    lable2idx = {class_idx[str(k)][1]: k for k in range(len(class_idx))}"
      ],
      "metadata": {
        "id": "gfWKb0NHOle7"
      },
      "execution_count": null,
      "outputs": []
    },
    {
      "cell_type": "markdown",
      "source": [
        "У нас простая свёрточная модель, которая через 2 свёрточных блока производит сжатие картинки в 2 раза. Также в обход этих блоков прокидывается дополнительная связь, и благодаря этому градиент не затухает.\n",
        "То есть: `x = x + conv_block(x)`."
      ],
      "metadata": {
        "id": "pSh3NWsQjawy"
      }
    },
    {
      "cell_type": "code",
      "source": [
        "model"
      ],
      "metadata": {
        "id": "EVa2R1FUj0iX"
      },
      "execution_count": null,
      "outputs": []
    },
    {
      "cell_type": "markdown",
      "source": [
        "Модель — это классический Resnet из 4 больших блоков. После блоков вся картинка усредняется в один вектор, а потом этот вектор приводится к размерности 1000, потому что в Imagenet 1k — 1000 классов."
      ],
      "metadata": {
        "id": "qr1_mumVj7xp"
      }
    },
    {
      "cell_type": "markdown",
      "source": [
        "Поработаем с картинкой сибирского кота из «Википедии». Вообще можно взять любую другую картинку, но важно, чтобы она была похожа на изображения из ImageNet 1k, где на переднем плане в центре находится один-единственный объект."
      ],
      "metadata": {
        "id": "PyF6Ln2OhAwh"
      }
    },
    {
      "cell_type": "code",
      "source": [
        "# Загружаем картинку и рисуем\n",
        "!wget 'https://upload.wikimedia.org/wikipedia/commons/0/06/Sibirische-Katze-Omega-1.jpg'\n",
        "path = '/content/Sibirische-Katze-Omega-1.jpg'\n",
        "\n",
        "def get_image(path):\n",
        "    with open(os.path.abspath(path), \"rb\") as f:\n",
        "        with Image.open(f) as img:\n",
        "            return img.convert(\"RGB\")\n",
        "\n",
        "\n",
        "img = get_image(path)\n",
        "plt.rcParams[\"figure.figsize\"] = (5, 5)\n",
        "plt.imshow(img)\n",
        "plt.show()"
      ],
      "metadata": {
        "id": "2yVkLH00OoaA"
      },
      "execution_count": null,
      "outputs": []
    },
    {
      "cell_type": "markdown",
      "source": [
        "### 1. Задай параметры трансформации картинки в формат Imagenet 1K (1 балл)\n",
        "\n",
        "Imagenet 1K — это стандартный датасет, на котором уже предобучена модель. Чтобы модель корректно работала на выбранном изображении, изображение должно соответствовать датасету.\n",
        "\n",
        "Обратись к [документации](https://pytorch.org/vision/main/models/generated/torchvision.models.resnet18.html#torchvision.models.resnet18) torchvision и посмотри, какие преобразования применялись к датасету для обучения модели.\n",
        "\n",
        "Напиши функцию, которая последовательно применяет эти преобразования. Не забудь применить преобразование `ToTensor` (модель работает с тензорами)."
      ],
      "metadata": {
        "id": "zcECSdj_NZDv"
      }
    },
    {
      "cell_type": "markdown",
      "source": [
        "#### Твоё решение"
      ],
      "metadata": {
        "id": "Bc0VXQKoNDNw"
      }
    },
    {
      "cell_type": "code",
      "source": [
        "def get_input_transform():\n",
        "    transform = transforms.Compose([\n",
        "        # Все параметры преобразований выбраны такими, так как именно с ними модель училась на датасете Imagenet_1k\n",
        "        transforms. # Увеличь масштаб изображения\n",
        "        transforms. # Вырежь серединку\n",
        "        transforms. # Преобразуй в тензор\n",
        "        transforms. # Нормализуй\n",
        "    ])\n",
        "    return transform"
      ],
      "metadata": {
        "id": "5u8Pbji_NGfJ"
      },
      "execution_count": null,
      "outputs": []
    },
    {
      "cell_type": "code",
      "source": [
        "# Обратное преобразование пригодится для дальнейших визуализаций\n",
        "def get_reverse_transform():\n",
        "    transform = transforms.Compose([\n",
        "        # Обратное преобразование к нормализации. Разделили на две части, чтобы написать через transforms\n",
        "        transforms.Normalize(\n",
        "            mean=(0., 0., 0.),\n",
        "            std=(1/0.229, 1/0.224, 1/0.225)\n",
        "        ),\n",
        "        transforms.Normalize(\n",
        "            mean=(-0.485, -0.456, -0.406),\n",
        "            std=(1., 1., 1.),\n",
        "        ),\n",
        "        # Переставляем каналы в конец\n",
        "        transforms.Lambda(\n",
        "            lambda x: torch.permute(x, (0, 2, 3, 1))\n",
        "        ),\n",
        "        # Отключаем градиент, сжимаем размерность батча и переводим в numpy\n",
        "        transforms.Lambda(\n",
        "            lambda x: x.detach().squeeze().numpy()\n",
        "        ),\n",
        "    ])\n",
        "    return transform\n",
        "\n",
        "# Функция, чтобы получить итоговый тензор, с которым мы будем работать, из входного изображения\n",
        "def get_input_tensors(img):\n",
        "    transform = get_input_transform()\n",
        "    # Делаем трансформацию и переводим к размерности батча\n",
        "    return transform(img).unsqueeze(0)\n",
        "\n",
        "# Функция, чтобы получить изображение из тензора\n",
        "def get_crop_img(img_tensor):\n",
        "    transform = get_reverse_transform()\n",
        "    return transform(img_tensor)\n"
      ],
      "metadata": {
        "id": "PPv_MvFCO1nR"
      },
      "execution_count": null,
      "outputs": []
    },
    {
      "cell_type": "code",
      "source": [
        "# Получаем тензор из исходного изображения\n",
        "img_t = get_input_tensors(img)\n",
        "\n",
        "# Проверяем работу функции для обратного преобразования. Если преобразования правильно написаны, то должно получиться немного обрезанное исходное изображение\n",
        "plt.imshow(get_crop_img(img_t))\n",
        "plt.show()"
      ],
      "metadata": {
        "id": "pc2vckaRlM2k"
      },
      "execution_count": null,
      "outputs": []
    },
    {
      "cell_type": "markdown",
      "source": [
        "### 2. Напиши функцию, чтобы выводить top-k наиболее вероятных классов для изображения и их вероятности (1 балл)"
      ],
      "metadata": {
        "id": "C1e6YCDzTaFP"
      }
    },
    {
      "cell_type": "markdown",
      "source": [
        "#### Твоё решение"
      ],
      "metadata": {
        "id": "Ude6U1-Ktm1W"
      }
    },
    {
      "cell_type": "code",
      "source": [
        "# Функция, чтобы из логитов получить распределение вероятностей и напечатать их с соответствующими индексами и классами\n",
        "def top_k_class(model, img, k=6):\n",
        "    model.to(device)\n",
        "    model.eval()\n",
        "    logits = Получи логиты (выход последнего слоя нейросети) для изображения\n",
        "    prediction = Через softmax преобразуй логиты к вероятностям и сожми по размерности батча\n",
        "    top_props, top_inds = prediction.topk(k) # Получи топ значений и их индексы\n",
        "    for i in range(k):\n",
        "        category_name = Достань индекс i-го объекта из топа и верни соответствующее текстовое название\n",
        "        score = Достань вероятность для i-го объекта из топа\n",
        "        print(f\"{category_name} {Достань индекс i-го объекта из топа}: {100 * score:.1f}%\")\n",
        "\n",
        "top_k_class(model, img_t)"
      ],
      "metadata": {
        "id": "u9i8S83cTqp-"
      },
      "execution_count": null,
      "outputs": []
    },
    {
      "cell_type": "markdown",
      "source": [
        "Хотя в Imagenet_1k 1000 классов и полосок у кота немного, модель предсказывает, что на изображении полосатый кот (tabby) с вероятностью чуть больше 50%, что очень далеко от случайного предсказания.\n",
        "\n",
        "В топе выдач можно наблюдать породы кошек, но в датасете нет отдельного класса для сибирской породы.\n",
        "\n",
        "Визуализируем то, на что ориентируется модель при выборе класса tabby. Начнём с Grad Cam."
      ],
      "metadata": {
        "id": "PtSyKZgSRZ8U"
      }
    },
    {
      "cell_type": "code",
      "source": [
        "from pytorch_grad_cam import GradCAM\n",
        "from pytorch_grad_cam.utils.model_targets import ClassifierOutputTarget\n",
        "\n",
        "target_layers = [model._modules[\"layer4\"]] # Берём последний свёрточный блок для визуализации, так как там собраны наиболее верхнеуровневые фичи\n",
        "\n",
        "cam = GradCAM(model=model, target_layers=target_layers) # Инициализируем наш класс\n",
        "target = [ClassifierOutputTarget([281])] # Используем 281 логит (класс tabby) как целевой\n",
        "cam_map = cam(input_tensor=img_t, targets=target)"
      ],
      "metadata": {
        "id": "8hAVxUrkSGGE"
      },
      "execution_count": null,
      "outputs": []
    },
    {
      "cell_type": "markdown",
      "source": [
        "Также сделаем визуализацию методом интегрированных градиентов."
      ],
      "metadata": {
        "id": "dFyXPzZkAS2o"
      }
    },
    {
      "cell_type": "code",
      "source": [
        "integrated_gradients = IntegratedGradients(model)\n",
        "attributions_ig = integrated_gradients.attribute(\n",
        "    img_t.to(device),\n",
        "    target=283,\n",
        "    n_steps=200\n",
        ")"
      ],
      "metadata": {
        "id": "x5GesaXQVME7"
      },
      "execution_count": null,
      "outputs": []
    },
    {
      "cell_type": "code",
      "source": [
        "# Функция для визуализации градиентов для IntegratedGradients\n",
        "def grad_to_image(raw_grads, percentile=99):\n",
        "    # Получим градиенты\n",
        "    gradients = raw_grads.detach().cpu().numpy()\n",
        "    # Преобразуем их к виду изображения\n",
        "    gradients = np.transpose(gradients, (0, 2, 3, 1))[0]\n",
        "    image_2d = np.sum(np.abs(gradients), axis=2)\n",
        "    # Вычисляем параметры для нормализации\n",
        "    vmax = np.percentile(image_2d, percentile)\n",
        "    vmin = np.min(image_2d)\n",
        "    # На выходе аналог min-max нормализации, но только по перцентилям\n",
        "    return np.clip((image_2d - vmin) / (vmax - vmin), 0, 1)"
      ],
      "metadata": {
        "id": "GgkbrVaFBRDM"
      },
      "execution_count": null,
      "outputs": []
    },
    {
      "cell_type": "code",
      "source": [
        "# Получаем карту внимания для входного изображения\n",
        "saliency_map = grad_to_image(attributions_ig)"
      ],
      "metadata": {
        "id": "UzXOqHT6VbBJ"
      },
      "execution_count": null,
      "outputs": []
    },
    {
      "cell_type": "code",
      "source": [
        "# Функция для отрисовки карты внимания для IntegratedGradients в тонах серого (так красивее)\n",
        "def ShowGrayscaleImage(im, title='', ax=None):\n",
        "    if ax is None:\n",
        "        P.figure()\n",
        "    P.axis('off')\n",
        "    P.imshow(im, cmap=P.cm.gray, vmin=0, vmax=1)\n",
        "    P.title(title)"
      ],
      "metadata": {
        "id": "WYv_4-g6APsV"
      },
      "execution_count": null,
      "outputs": []
    },
    {
      "cell_type": "code",
      "source": [
        "# Рисуем то, что у нас получилось\n",
        "\n",
        "plt.rcParams[\"figure.figsize\"] = (20, 20)\n",
        "\n",
        "# Исходное изображение\n",
        "plt.subplot(3, 3, 1)\n",
        "plt.imshow(get_crop_img(img_t))\n",
        "plt.title('Original')\n",
        "plt.axis('off')\n",
        "\n",
        "# GradCam\n",
        "plt.subplot(3, 3, 2)\n",
        "plt.imshow(get_crop_img(img_t))\n",
        "plt.imshow(cam_map[0], alpha=0.6, interpolation=\"bilinear\", cmap=\"jet\")\n",
        "plt.title('Original Grad Cam')\n",
        "\n",
        "# IntegratedGradients\n",
        "ShowGrayscaleImage(\n",
        "    saliency_map,\n",
        "    title='Original Integrated Gradients',\n",
        "    ax=P.subplot(3, 3, 3)\n",
        ")"
      ],
      "metadata": {
        "id": "dWn7PrwdVeIR"
      },
      "execution_count": null,
      "outputs": []
    },
    {
      "cell_type": "markdown",
      "source": [
        "Модели нужно посмотреть на кота, чтобы сказать, что на картинке кот."
      ],
      "metadata": {
        "id": "0tQr4_yVe7My"
      }
    },
    {
      "cell_type": "markdown",
      "source": [
        "### 3. Измени изображение градиентными методами. FGM Adversarial Attack  (3 балла)"
      ],
      "metadata": {
        "id": "dJLjv4Xhewm0"
      }
    },
    {
      "cell_type": "markdown",
      "source": [
        "Обманем нейросеть для классификации картинок с помощью метода FGM (Fast Gradient Method).\n",
        "\n",
        "Вероятность того, что на картинке посудомоечная машина (dishwasher), составила 0,9%. Попробуем сделать так, чтобы эта вероятность возросла. Мы  обманем нейросеть: изменим изображение градиентными методами так, что для человеческого восприятия ничего не изменится.\n",
        "\n",
        "Изображение — это точно такой же тензор, как и параметры нейросети. Если мы заморозим всю сеть (уже заморозили, когда сделали  .eval() выше) и разморозим параметры (пиксели) самого изображения, то сможем изменять его при обучении. То есть мы будем идти против градиента функции потерь и изменять с помощью оптимизатора только пиксели самого изображения.\n",
        "\n",
        "Для этого необходимо реализовать стандартный loop обучения, но в качестве функции потерь будет выступать вероятность необходимого класса. Для посудомоечной машины номер такого класса — 534."
      ],
      "metadata": {
        "id": "IivBn8pSWaU_"
      }
    },
    {
      "cell_type": "markdown",
      "source": [
        "#### Твоё решение"
      ],
      "metadata": {
        "id": "PAmT61p1yf0E"
      }
    },
    {
      "cell_type": "code",
      "source": [
        "# Делаем копию исходного изображения и задаём, что мы хотим, чтобы оно было подвержено изменениям градиентными методами\n",
        "img_dish = Variable(img_t.clone(), requires_grad=True)\n",
        "# Инициализируем оптимизатор, передаём ему обучаемое изображение в качестве параметров и говорим, что хотим использовать для максимизации (так как будем использовать вероятность в качестве loss, которую мы хотим сделать максимальной)\n",
        "optimizer = Adam([img_dish], maximize=True)\n",
        "\n",
        "# Пока вероятность не достигнет желаемой, обучаем изображение\n",
        "while True:\n",
        "  # Пропускаем изображение через нейросеть (получаем логиты), переводим их к вероятностному представлению и выбираем логит, который относится к посудомоечной машинке. Он под индексом 534. Это указано в словаре, который загружали в начале\n",
        "  loss = Твой код\n",
        "  print(loss)\n",
        "  # Хотим учиться, пока вероятность предсказания посудомоечной машины не станет более 98%\n",
        "  Твой код\n",
        "  # Обратное распространение ошибки\n",
        "  loss.backward()\n",
        "  # Двигаем веса\n",
        "  optimizer.step()\n",
        "  # Обнуляем значения градиентов\n",
        "  optimizer.zero_grad()"
      ],
      "metadata": {
        "id": "oc_ESJAbyjnh"
      },
      "execution_count": null,
      "outputs": []
    },
    {
      "cell_type": "markdown",
      "source": [
        "Проделываем все те же самые действия для визуализации интерпретаций предсказания, но уже для изменённого изображения."
      ],
      "metadata": {
        "id": "Mqr88iJyrbme"
      }
    },
    {
      "cell_type": "code",
      "source": [
        "attributions_curt = integrated_gradients.attribute(\n",
        "    img_dish.to(device),\n",
        "    target=534,\n",
        "    n_steps=200\n",
        ")\n",
        "\n",
        "saliency_dish = grad_to_image(img_dish)\n",
        "target_dish = [ClassifierOutputTarget([534])]\n",
        "cam_dish = cam(input_tensor=img_dish, targets=target_dish)"
      ],
      "metadata": {
        "id": "T8q1Wk8yYrcp"
      },
      "execution_count": null,
      "outputs": []
    },
    {
      "cell_type": "markdown",
      "source": [
        "Визуализируем в сравнении с оригиналом."
      ],
      "metadata": {
        "id": "IiXC3iA_rm9Z"
      }
    },
    {
      "cell_type": "code",
      "source": [
        "plt.rcParams[\"figure.figsize\"] = (20, 20)\n",
        "\n",
        "# Исходное изображение\n",
        "plt.subplot(3, 3, 1)\n",
        "plt.imshow(get_crop_img(img_t))\n",
        "plt.title('Original')\n",
        "plt.axis('off')\n",
        "\n",
        "# GradCam для исходного изображения\n",
        "plt.subplot(3, 3, 2)\n",
        "plt.imshow(get_crop_img(img_t))\n",
        "plt.imshow(cam_map[0], alpha=0.6, interpolation=\"bilinear\", cmap=\"jet\")\n",
        "plt.title('Original Grad Cam')\n",
        "\n",
        "# IntegratedGradients для исходного изображения\n",
        "ShowGrayscaleImage(\n",
        "    saliency_map,\n",
        "    title='Original Integrated Gradients',\n",
        "    ax=P.subplot(3, 3, 3)\n",
        ")\n",
        "\n",
        "# Изменённное изображение\n",
        "plt.subplot(3, 3, 4)\n",
        "plt.imshow(get_crop_img(img_dish))\n",
        "plt.title('Dishwasher')\n",
        "plt.axis('off')\n",
        "\n",
        "# GradCam для изменённого изображения\n",
        "plt.subplot(3, 3, 5)\n",
        "plt.imshow(get_crop_img(img_dish))\n",
        "plt.imshow(cam_dish[0], alpha=0.6, interpolation=\"bilinear\", cmap=\"jet\")\n",
        "plt.title('Dishwasher Grad Cam')\n",
        "\n",
        "# IntegratedGradients для изменённого изображения\n",
        "ShowGrayscaleImage(\n",
        "    saliency_dish,\n",
        "    title='Dishwasher Integrated Gradients',\n",
        "    ax=P.subplot(3, 3, 6)\n",
        ")"
      ],
      "metadata": {
        "id": "5zWfcZaoZj-C"
      },
      "execution_count": null,
      "outputs": []
    },
    {
      "cell_type": "markdown",
      "source": [
        "Теперь нейросеть считает, что мы подали ей на вход посудомоечную машину, а не кота. Для человеческого восприятия изображение не изменилось.\n",
        "\n",
        "Если проводить визуализации методами Grad Cam и Integrated Gradients, то явно видны отличия в восприятии моделью входа. То есть, казалось бы, при одинаковых (на взгляд человека) картинках на входе модель по-разному на них реагирует.\n",
        "\n",
        "Чтобы убедиться, что картинки действительно различаются, можно посмотреть на тензоры: значения в них разные."
      ],
      "metadata": {
        "id": "vmmvD7L6b0jR"
      }
    },
    {
      "cell_type": "code",
      "source": [
        "img_t, img_dish"
      ],
      "metadata": {
        "id": "i9U1qLB_b-Jg"
      },
      "execution_count": null,
      "outputs": []
    },
    {
      "cell_type": "markdown",
      "source": [
        "Значения чуть-чуть разные, именно поэтому мы не видим отличий, но для нейросети изображение изменилось кардинально.\n",
        "\n",
        "Убедимся, что модель воспринимает обновлённое изображение как посудомоечную машину."
      ],
      "metadata": {
        "id": "sdUPicACc0RT"
      }
    },
    {
      "cell_type": "code",
      "source": [
        "top_k_class(model, img_dish)"
      ],
      "metadata": {
        "id": "pgP5wNJSizQq"
      },
      "execution_count": null,
      "outputs": []
    },
    {
      "cell_type": "markdown",
      "source": [
        "## Задание 2. Adversatial patch (5 баллов)\n",
        "\n",
        "Только что мы обучали изображение: чтобы изображение отнести к какому-то классу, необходимо целиком его изменять, но на это не всегда есть ресурсы. В идеале хотелось бы обучить что-то один раз, а потом уже это использовать.\n",
        "\n",
        "Можно обучить небольшой патч, который будет прикрепляться к любой картинке в датасете и менять вероятности предсказания объектов на ней. Обучим такие патчи и оценим качество их обмана в зависимости от размера патча.\n",
        "\n",
        "Мы будем работать с 10 классами из ImageNet 1K, потому что целиком ImageNet 1K очень большой для  задания (и для Colab).\n",
        "\n",
        "В задании тебе нужно:\n",
        "\n",
        "1) реализовать класс Dataset, который будет подгружать изображения с диска (1 балл);\n",
        "\n",
        "2) определить класс нейросети с обучаемым патчем (2 балла);\n",
        "\n",
        "3) изменить обучающий loop под данную задачу (1 балл);\n",
        "\n",
        "4) оценить качество обучения для разных размеров патча (1 балл)."
      ],
      "metadata": {
        "id": "nuuZQ5ihdf3N"
      }
    },
    {
      "cell_type": "markdown",
      "source": [
        "Загрузи необходимые для работы данные.\n"
      ],
      "metadata": {
        "id": "6TbkxD18jxWo"
      }
    },
    {
      "cell_type": "code",
      "source": [
        "# Скачаем train- и val-часть нашего датасета\n",
        "!gdown 1QActyStoajNtF1QQlguLj2w_9Tm9Pc3k\n",
        "!gdown 18wgvX3GtIbHS_zuVQ2SuVCDABbkMFXPL\n",
        "\n",
        "# И распакуем\n",
        "!unzip -qq /content/data_train.zip -d /content/data_train\n",
        "!unzip -qq /content/data_test.zip -d /content/data_test"
      ],
      "metadata": {
        "id": "uNXeBX8Z-J0f"
      },
      "execution_count": null,
      "outputs": []
    },
    {
      "cell_type": "code",
      "source": [
        "import os\n",
        "from tqdm import tqdm\n",
        "\n",
        "import numpy as np\n",
        "from PIL import Image\n",
        "import matplotlib.pyplot as plt\n",
        "\n",
        "import torch\n",
        "import torch.nn as nn\n",
        "from torch.optim import Adam\n",
        "import torch.nn.functional as F\n",
        "from torchvision import transforms, models\n",
        "\n",
        "from tqdm import tqdm\n",
        "from torch.utils.data import Dataset, DataLoader"
      ],
      "metadata": {
        "id": "TJyy9a5deQQ4"
      },
      "execution_count": null,
      "outputs": []
    },
    {
      "cell_type": "markdown",
      "source": [
        "#### Определи преобразования для датасета (скопируй из задания 1, если оно у тебя сделано)"
      ],
      "metadata": {
        "id": "zDWWIYay0oqZ"
      }
    },
    {
      "cell_type": "code",
      "source": [
        "# Определим преобразования для ImageNet (они стандартные, просто скопируй из прошлого задания)\n",
        "# Преобразования разбиваем на две части для удобства, но по сути это те же самые преобразования, что у тебя определены выше. Поэтому просто скопируй\n",
        "# Эти преобразования будем применять во время считывания изображения, чтобы они были все одинаковой размерности\n",
        "preprocess = transforms.Compose([\n",
        "        transforms.Увеличь масштаб изображения,\n",
        "        transforms.Вырежь серединку\n",
        "        ])\n",
        "\n",
        "# А эти будем применять на этапе сбора батча изображения\n",
        "base = transforms.Compose([\n",
        "        transforms.Преобразуй в тензор,\n",
        "        transforms.Нормализуй\n",
        "])"
      ],
      "metadata": {
        "id": "deTMVwgB0yKT"
      },
      "execution_count": null,
      "outputs": []
    },
    {
      "cell_type": "markdown",
      "source": [
        "#### 1. Реализуй класс Dataset, который будет подгружать изображения с диска (1 балл)"
      ],
      "metadata": {
        "id": "bZhQJI-0-q97"
      }
    },
    {
      "cell_type": "markdown",
      "source": [
        "#### Твоё решение"
      ],
      "metadata": {
        "id": "GUruSpp1_PU2"
      }
    },
    {
      "cell_type": "code",
      "source": [
        "# Определим класс датасета\n",
        "class ImageNet10(Dataset):\n",
        "\n",
        "  # В init всё будем считывать с диска\n",
        "  def __init__(self, root, transforms_preprocess=None, transforms_base=None):\n",
        "    '''\n",
        "    root — путь до папки, откуда считываем\n",
        "    transforms_preprocess — трансформации, которые применияем в процессе считывания\n",
        "    transforms_base — трансформации, которые применяем в процессе сбора батча\n",
        "    '''\n",
        "    self.X = [] # Контейнер, куда складываем изображения\n",
        "    self.y = [] # Контейнер, куда складываем метки\n",
        "\n",
        "    folders = sorted(os.listdir(f'/content/{root}')) # Сортировка нужна, потому что unzip работает параллельно, и может получиться, что неверно соотнесём классы и объекты, если не отсортировать\n",
        "    # Итерируемся по папкам\n",
        "    for i, folder in enumerate(folders):\n",
        "      files = os.listdir(f'/content/{root}/{folder}')\n",
        "      # Добавляем в self.y метки класса (i) по количеству файлов в папке\n",
        "      self.y.extend(Твой код)\n",
        "      # Итерируемся по файлам в каждой папке\n",
        "      for file in tqdm(files):\n",
        "        # Считываем изображение, преобразуем к стандартному формату и кладём в контейнер\n",
        "        self.X.append(Твой код, путь до файла уже верный указанf'/content/{root}/{folder}/{file}')\n",
        "\n",
        "    self.y = np.array(self.y) # Преобразуем self.y в np.array\n",
        "    self.transforms = transforms_base # Сохраняем базовую трансформацию в классе\n",
        "\n",
        "    # В данных есть следующие классы. Поместим информацию о них в ImageNet10: так удобнее, потому что всё будет находиться внутри одного объекта\n",
        "    self.classes = {0: 'hen',\n",
        "              1: 'kite',\n",
        "              2: 'terrapin',\n",
        "              3: 'scorpion',\n",
        "              4: 'centipede',\n",
        "              5: 'boxer',\n",
        "              6: 'tabby',\n",
        "              7: 'ice bear',\n",
        "              8: 'hare',\n",
        "              9: 'broom'}\n",
        "\n",
        "  def __len__(self):\n",
        "    return len(self.y)\n",
        "\n",
        "  # Если определена трансформация, применяем её, иначе возвращаем без трансформаций\n",
        "  def __getitem__(self, idx):\n",
        "    Твой код\n",
        "\n",
        "# Опередели датасеты\n",
        "train_set = ImageNet10('data_train', preprocess, base)\n",
        "test_set = ImageNet10('data_test', preprocess, base)\n",
        "# Это пригодится для вычисления метрик\n",
        "y_test = test_set.y"
      ],
      "metadata": {
        "id": "yXUeEj-J_OdF"
      },
      "execution_count": null,
      "outputs": []
    },
    {
      "cell_type": "code",
      "source": [
        "train_loader = DataLoader(train_set, batch_size=32, shuffle=True)\n",
        "test_loader = DataLoader(test_set, batch_size=8, shuffle=False) # Батч сайз такой маленький, потому что будем в случайном месте прикреплять патч в рамках одного батча, тем меньше батч на валидации, тем стабильнее оценка будет"
      ],
      "metadata": {
        "id": "VEjm5d3c_Xl4"
      },
      "execution_count": null,
      "outputs": []
    },
    {
      "cell_type": "code",
      "source": [
        "for X, y in train_loader:\n",
        "  break\n",
        "\n",
        "X.shape, y.shape"
      ],
      "metadata": {
        "id": "0st0oGN5HHe8"
      },
      "execution_count": null,
      "outputs": []
    },
    {
      "cell_type": "markdown",
      "source": [
        "Сначала определим функции, которые будем использовать для проверки качества обмана. Обмануть можно двумя способами:\n",
        "\n",
        "1) модель будет выдавать для изображения с патчем класс, патч для которого мы и выучили;\n",
        "\n",
        "2) благодаря патчу можно ошибаться в предсказании истинного класса. То есть модель будет предсказывать метку класса, которая не соответствует патчу, но при этом будет ошибаться с предсказанием истинного класса."
      ],
      "metadata": {
        "id": "x72fj8XoDOnC"
      }
    },
    {
      "cell_type": "code",
      "source": [
        "# Общую точность модели будем смотреть через обычный accuracy\n",
        "from sklearn.metrics import accuracy_score\n",
        "\n",
        "# А ошибку в предсказании истинного класса будем измерять как долю всех объектов, которые верно предсказали классом для обмана\n",
        "def accuracy_score_cls(y_pred, cls):\n",
        "  '''\n",
        "  y_pred — предсказанные метки\n",
        "  cls — индекс класса, которым мы пытаемся обмануть\n",
        "  '''\n",
        "  return (y_pred == cls).mean()"
      ],
      "metadata": {
        "id": "YqOuFJDmEP4T"
      },
      "execution_count": null,
      "outputs": []
    },
    {
      "cell_type": "markdown",
      "source": [
        "Посмотрим, какие значения метрик будет выдавать модель, которую заранее обучили на CIFAR-10."
      ],
      "metadata": {
        "id": "9RxrXTw3GeVW"
      }
    },
    {
      "cell_type": "code",
      "source": [
        "# Можно почитать, что здесь происходит, но это не особо важно. Просто функция для отрисовки изображений\n",
        "def show_ds(ds, n=0): # Принимает датасет и порядковый номер изображения из класса\n",
        "    # Хотим получить по изображению каждого класса\n",
        "    fig, axs = plt.subplots(1, len(ds.classes), figsize=(20, 5))\n",
        "    # Итерируемся по каждому классу\n",
        "    for cls_num, name in ds.classes.items():\n",
        "        # Берём n-е изображение класса в датасете\n",
        "        i = np.argwhere(ds.y == cls_num)[n][0]\n",
        "        # Рисуем изображение\n",
        "        ax = axs[cls_num]\n",
        "        ax.imshow(ds.X[i], cmap=\"Greys_r\")\n",
        "        ax.set_title(name)\n",
        "        ax.axis(\"off\")\n",
        "    plt.show()\n",
        "\n",
        "show_ds(train_set, 1)"
      ],
      "metadata": {
        "id": "odif24QRHhxr"
      },
      "execution_count": null,
      "outputs": []
    },
    {
      "cell_type": "markdown",
      "source": [
        "### 2–3. Напиши класс нейросети для обучения патча и измени стандарный loop для обучения (2 + 1 балл)"
      ],
      "metadata": {
        "id": "LXxlLqytAyT-"
      }
    },
    {
      "cell_type": "markdown",
      "source": [
        "Загрузим модель, которая уже обучена специально под наши 10 классов, и проверим, как она работает."
      ],
      "metadata": {
        "id": "FtyV9sNMJsVz"
      }
    },
    {
      "cell_type": "code",
      "source": [
        "!gdown 1yShvYAlm8EjJVoui6l6XYbwgQzjO0TB5"
      ],
      "metadata": {
        "id": "4nLMRXpvQpP3"
      },
      "execution_count": null,
      "outputs": []
    },
    {
      "cell_type": "markdown",
      "source": [
        "### Инициализируй backbone модели для обучения патча"
      ],
      "metadata": {
        "id": "Q0-7rYXtBkeG"
      }
    },
    {
      "cell_type": "markdown",
      "source": [
        "#### Твоё решение"
      ],
      "metadata": {
        "id": "1jYVhJI-Bp_D"
      }
    },
    {
      "cell_type": "code",
      "source": [
        "# Определим device\n",
        "device = 'cuda' if torch.cuda.is_available() else 'cpu'\n",
        "# Определим модель\n",
        "model_cls = models.mobilenet_v3_small()\n",
        "# Меняем последний слой на классификацию под 10 классов из Imagenet 1K. Посмотри, как выглядит нейросеть, чтобы задать нужное количество входов и выходов в последнем блоке\n",
        "model_cls.classifier[3] = Твой код\n",
        "# Подгружаем веса модели\n",
        "model_cls.load_state_dict(torch.load('/content/model_epoch_2.pth', weights_only=True, map_location=device))\n",
        "model_cls.to(device).eval()"
      ],
      "metadata": {
        "id": "WiVQpWVvBtM1"
      },
      "execution_count": null,
      "outputs": []
    },
    {
      "cell_type": "markdown",
      "source": [
        "Определим функции для получения предсказаний. Они же будут использоваться при обучении на этапе валидации, отсюда и название. И это снова функции из стандарного loop для обучения с небольшими изменениями под задачу."
      ],
      "metadata": {
        "id": "adVT8x9ULPpT"
      }
    },
    {
      "cell_type": "markdown",
      "source": [
        "### Определи функции для валидации/получения предсказаний"
      ],
      "metadata": {
        "id": "zNdLDfvtCV6W"
      }
    },
    {
      "cell_type": "markdown",
      "source": [
        "#### Твой код"
      ],
      "metadata": {
        "id": "FaBY60ISCaZ6"
      }
    },
    {
      "cell_type": "code",
      "source": [
        "# Функция для одного шага валидации\n",
        "# Теперь вместо функции потерь передаём label_cls — это индекс класса, которым хотим обмануть модель\n",
        "def valid_step(batch, model, label_cls, device):\n",
        "      X, _ = batch\n",
        "      X = X.to(device)\n",
        "\n",
        "      with torch.no_grad():\n",
        "        logits = model(X) # И для удобства модель будет возвращать кое-что ещё, посмотрим на это чуть ниже. Для валидации нам это не надо\n",
        "        softmax = Получи распределение вероятностей для каждого объекта в батче\n",
        "        l = Твой код # Изменение здесь — функция потерь. Мы считаем её как вероятность нужного класса, которым обманываем нейросеть. То есть достаём из батча вероятности нужного класса для каждого объекта и усредняем\n",
        "        preds = Предсказание — наиболее вероятный класс (индекс) из softmax\n",
        "\n",
        "      return l.item(), preds.cpu().numpy()"
      ],
      "metadata": {
        "id": "vLqlFiqmDXNR"
      },
      "execution_count": null,
      "outputs": []
    },
    {
      "cell_type": "code",
      "source": [
        "# Тут, кроме label_cls в аргументах, — без изменений\n",
        "def validate(model, label_cls, device, val_dataloader):\n",
        "  val_loss = 0\n",
        "  preds = []\n",
        "  for batch in tqdm(val_dataloader):\n",
        "    loss_step, preds_step = valid_step(batch, model, label_cls, device)\n",
        "\n",
        "    val_loss += loss_step / len(val_dataloader)\n",
        "    preds.append(preds_step)\n",
        "  preds = np.concatenate(preds)\n",
        "\n",
        "  return val_loss, preds"
      ],
      "metadata": {
        "id": "Ejtx6psUCeS5"
      },
      "execution_count": null,
      "outputs": []
    },
    {
      "cell_type": "markdown",
      "source": [
        "Получим предсказания и посчитаем на них заданные метрики."
      ],
      "metadata": {
        "id": "V0yRbFpOL2I6"
      }
    },
    {
      "cell_type": "code",
      "source": [
        "# Индекс класса зададим 6 (кот/tabby)\n",
        "_, preds = validate(model_cls, 6, device, test_loader)\n",
        "\n",
        "# Считаем метрики\n",
        "acc = round(accuracy_score(y_test, preds) * 100, 2)\n",
        "acc_cls = round(accuracy_score_cls(preds, 6) * 100, 2)\n",
        "\n",
        "print()\n",
        "print(f'Val acc {acc}% | Val acc cls {acc_cls}%')"
      ],
      "metadata": {
        "id": "muMZAtWoMTi4"
      },
      "execution_count": null,
      "outputs": []
    },
    {
      "cell_type": "markdown",
      "source": [
        "Изначально модель неплохо справляется с классификацией всех изображений — лучше случайного качества (10%). А для котов качество получается около 10,2%, потому что точность модели составляет 89%, и датасет сбалансированный, то есть в нём 10% объектов tabby. Модель может отклоняться в каком-то интервале от идеальных 10%, так как допускает ошибки.\n",
        "\n",
        "Теперь перейдём к построению модели для обучения патча для обмана."
      ],
      "metadata": {
        "id": "BRORkDuBNMn8"
      }
    },
    {
      "cell_type": "markdown",
      "source": [
        "Определим класс нашей нейросети, которая будет вставлять патч в каждое изображение.\n",
        "\n",
        "Посмотрим, что для этого понадобится.\n",
        "1. Загрузить модель MobileNet_v3_small (так как мы будем обучаться на всех изображениях в датасете, нужна быстрая сеть) с соответствующими CIFAR-10 весами.\n",
        "2. Инициализировать из равномерного шума обучаемый патч с помощью `torch.rand` и `nn.Parameter`.\n",
        "3. Во время прямого прохода по сети:\n",
        "  * нормализовать патч с теми же параметрами, что и изображения;\n",
        "  * сгенерировать два целых числа из диапазона `(0, размер изображения — размер патча)`, они будут обозначать место на картинке, куда прикреплять патч.\n",
        "4. Заменить часть изображения патчем.\n",
        "5. Сделать прямой проход по замороженной нейросети (заморожены только веса, градиенты нам нужны)."
      ],
      "metadata": {
        "id": "1hAsXJSJnL0i"
      }
    },
    {
      "cell_type": "markdown",
      "source": [
        "### Сделай сеть для обучения патча\n",
        "Тебе нужно:\n",
        "\n",
        "1) инициализировать обучаемый патч c помощью [nn.Parameter](https://pytorch.org/docs/stable/generated/torch.nn.parameter.Parameter.html) на изображение, который имеет 3 канала и размеры patch_size на patch_size;\n",
        "\n",
        "2) реализовать метод `add_patch`, который добавляет патч на изобржение в случайном месте:\n",
        "  * примени [torch.ranint](https://pytorch.org/docs/stable/generated/torch.randint.html) два раза (или один раз, но сгенерируй два числа) для выбора случайных координат левого нижнего угла на изображении. Патч не должен выходить за пределы изображения;\n",
        "  * замени части изображений из батча на патч.\n"
      ],
      "metadata": {
        "id": "AtfHxCxwD3By"
      }
    },
    {
      "cell_type": "markdown",
      "source": [
        "#### Твой код"
      ],
      "metadata": {
        "id": "XstB8wzoGA9Y"
      }
    },
    {
      "cell_type": "code",
      "source": [
        "class PatchMobileNet(nn.Module):\n",
        "  def __init__(self, model, patch_size=32):\n",
        "    super().__init__()\n",
        "    # Переводим в режим eval, так как обучать будем только один патч, а не всю сеть\n",
        "    self.model = model.eval()\n",
        "    # Создаём матрицу параметров патча\n",
        "    self.patch = nn.Parameter(Твой код)\n",
        "    self.patch_size = patch_size\n",
        "    # Значения для нормализации пригодятся для последующих визуализаций\n",
        "    self.mean = torch.tensor([0.485, 0.456, 0.406], device=device).view(1, 3, 1, 1)\n",
        "    self.std = torch.tensor([0.229, 0.224, 0.225], device=device).view(1, 3, 1, 1)\n",
        "\n",
        "  # Функция, чтобы не выходить за рамки значений для изображения\n",
        "  def to_img(self, X):\n",
        "    return X.clamp(0, 1)\n",
        "\n",
        "  # Нормализация\n",
        "  def normalize(self, X):\n",
        "    return (X - self.mean) / self.std\n",
        "\n",
        "  # Обратная нормализация\n",
        "  def denormalize(self, X):\n",
        "    return X * self.std + self.mean\n",
        "\n",
        "  def add_patch(self, X):\n",
        "    # Получаем координаты, куда добавляем патч\n",
        "    x = Твой код\n",
        "    y = Твой код\n",
        "    # Меняем часть каждого изображения в батче на патч\n",
        "    X[Твой код] = self.patch\n",
        "    return X\n",
        "\n",
        "  def forward(self, X):\n",
        "    # Добавляем патч и делаем прямой проход по модели\n",
        "    patched_img = self.add_patch(X)\n",
        "    return self.model(patched_img), patched_img.detach() # Возвращаем изображение с патчем для удобства последующей визуализации"
      ],
      "metadata": {
        "id": "AIOs1_WkGDWx"
      },
      "execution_count": null,
      "outputs": []
    },
    {
      "cell_type": "markdown",
      "source": [
        "Теперь инициализируем функции для обучения. Практически всё стандартно, кроме функции потерь. Мы максимизируем вероятность выбранного класса, поэтому и в функции вместо отдельной функции потерь будем передавать номер класса."
      ],
      "metadata": {
        "id": "BKRDC52R0c_H"
      }
    },
    {
      "cell_type": "markdown",
      "source": [
        "#### Твой код"
      ],
      "metadata": {
        "id": "vvc9svxJIb2r"
      }
    },
    {
      "cell_type": "code",
      "source": [
        "# Функция для одного шага валидации\n",
        "# От valid step выше единственное отличие — теперь два выхода из модели, потому что модель поменялась. Была нейросеть, которая выдаёт логиты, а теперь к логитам добавилось изображение с патчем\n",
        "def valid_step(batch, model, label_cls, device):\n",
        "      X, _ = batch\n",
        "      X = X.to(device)\n",
        "\n",
        "      with torch.no_grad():\n",
        "        logits, _ = model(X) # И для удобства модель будет возвращать кое-что ещё, посмотрим на это чуть ниже. Для валидации нам это не надо\n",
        "        softmax = F.softmax(logits, dim=1)\n",
        "        l = # Просто скопируй из valid_step выше\n",
        "        preds = softmax.argmax(dim=-1)\n",
        "\n",
        "      return l.item(), preds.cpu().numpy()"
      ],
      "metadata": {
        "id": "TZn7Z75mOy-9"
      },
      "execution_count": null,
      "outputs": []
    },
    {
      "cell_type": "code",
      "source": [
        "# Функция для одного шага обучения\n",
        "def train_step(batch, model, label_cls, optimizer, device):\n",
        "\n",
        "    X, _ = batch\n",
        "    X = X.to(device)\n",
        "\n",
        "    model.zero_grad()\n",
        "\n",
        "    logits, _ = model(X)\n",
        "    l = Твой код # Всё, как и на этапе валидации: Логиты —> Softmax —> Выбрать вероятности, соответствующие нужному классу —> Усреднить\n",
        "\n",
        "    l.backward()\n",
        "    optimizer.step()\n",
        "\n",
        "    return l.item()"
      ],
      "metadata": {
        "id": "D0iuSPQ6DSeY"
      },
      "execution_count": null,
      "outputs": []
    },
    {
      "cell_type": "code",
      "source": [
        "# Функция для обучения на эпохе\n",
        "def train(model, label_cls, optimizer, device, train_dataloader):\n",
        "    train_loss = 0\n",
        "\n",
        "    for batch in tqdm(train_dataloader):\n",
        "      loss_step = train_step(batch, model, label_cls, optimizer, device)\n",
        "      train_loss += loss_step / len(train_dataloader)\n",
        "\n",
        "    return train_loss"
      ],
      "metadata": {
        "id": "MlTutuMNDS7v"
      },
      "execution_count": null,
      "outputs": []
    },
    {
      "cell_type": "code",
      "source": [
        "def train_and_validate(epochs, model, label_cls, optimizer, device, train_dataloader, val_dataloader, save_every=1, naming=''):\n",
        "\n",
        "    model.to(device)\n",
        "\n",
        "    for e in range(epochs):\n",
        "\n",
        "        train_loss = train(model, label_cls, optimizer, device, train_dataloader)\n",
        "        val_loss, preds = validate(model, label_cls, device, val_dataloader)\n",
        "\n",
        "        acc = round(accuracy_score(y_test, preds) * 100, 2) # Здесь добавилось вычисление метрик\n",
        "        acc_cls = round(accuracy_score_cls(preds, label_cls) * 100, 2)\n",
        "\n",
        "        print(f'Эпоха: {e} | Train Loss {round(train_loss, 4)} | Val Loss {round(val_loss, 4)} | Val acc {acc}% | Val acc cls {acc_cls}%')"
      ],
      "metadata": {
        "id": "f1GvndJuFKvV"
      },
      "execution_count": null,
      "outputs": []
    },
    {
      "cell_type": "markdown",
      "source": [
        "### 4. Обучи модели с разными патчами и посмотри на результаты (1 балл)"
      ],
      "metadata": {
        "id": "vBMLDBKSJL6Z"
      }
    },
    {
      "cell_type": "markdown",
      "source": [
        "#### Твоё решение"
      ],
      "metadata": {
        "id": "d4QAuTKIJyWf"
      }
    },
    {
      "cell_type": "code",
      "source": [
        "model = PatchMobileNet(model_cls, patch_size=Размер патча, начни с небольшого размера, например 16, но можешь поэксперементировать)\n",
        "# Параметров очень мало, поэтому можно делать lr побольше\n",
        "optimizer = Adam([model.patch], maximize=True, lr=Задай темп обучения) # Оптимизируемся в сторону максимума, потому что хотим увеличивать вероятность\n",
        "epochs = Задай количество эпох"
      ],
      "metadata": {
        "id": "T_s3yujDkvoB"
      },
      "execution_count": null,
      "outputs": []
    },
    {
      "cell_type": "code",
      "source": [
        "label_cls = 6 # tabby\n",
        "train_and_validate(epochs, model, label_cls, optimizer, device, train_loader, test_loader, save_every=1, naming='_cat')"
      ],
      "metadata": {
        "id": "nby9lHmWlqCE"
      },
      "execution_count": null,
      "outputs": []
    },
    {
      "cell_type": "markdown",
      "source": [
        "Обманывать модель получается часто, заменив всего лишь 1/196 пикселей на изображении. Можно немного увеличить патч, и тогда качество возрастёт, или добавить шедулер, чтобы сходимость была стабильнее."
      ],
      "metadata": {
        "id": "6wOUd60shouj"
      }
    },
    {
      "cell_type": "code",
      "source": [
        "# Посмотрим на патч\n",
        "plt.imshow(model.to_img(model.denormalize(model.patch)).cpu().detach().squeeze().permute(1, 2, 0))\n",
        "plt.show()"
      ],
      "metadata": {
        "id": "jGjosddOzl4t"
      },
      "execution_count": null,
      "outputs": []
    },
    {
      "cell_type": "markdown",
      "source": [
        "Опиши, получилась ли у тебя на патче некоторая «котовость»."
      ],
      "metadata": {
        "id": "agtWL5dYKRfE"
      }
    },
    {
      "cell_type": "markdown",
      "source": [
        "#### Ответ для ассистента"
      ],
      "metadata": {
        "id": "V5hG0SLRKc8m"
      }
    },
    {
      "cell_type": "markdown",
      "source": [
        "Опиши полученные визуализации изображений с патчами. Хорошо ли работает патч?\n",
        "\n",
        "Какая-то структура проглядывается, но выглядит довольно сомнительно, не похоже на кошку. С другой стороны, кажется, кошку не нарисовать сильно лучше на картинке 16 на 16. Тем не менее, возможно, что-то похожее на кошку получилось, потому что чёрные пиксели похожи на очертания головы кошки."
      ],
      "metadata": {
        "id": "-deIp8hcKhaO"
      }
    },
    {
      "cell_type": "markdown",
      "source": [
        "Нарисуем произвольные изображения с патчем и выведем их вероятности принадлежности к классу tabby."
      ],
      "metadata": {
        "id": "j1eigutjiCSw"
      }
    },
    {
      "cell_type": "code",
      "source": [
        "# Можно почитать, что здесь происходит, но это не особо важно. Просто функция для отрисовки изображений\n",
        "# Немного изменили её по сравнению с началом ДЗ, чтобы дорисовать патчи и напечатать вероятности для класса label_cls. То есть подпись — истинная метка класса, а вероятность — вероятность того, что на картинке находится label_cls\n",
        "def show_ds_with_probs(ds, n=0): # Принимает датасет и порядковый номер изображения из класса\n",
        "    # Хотим получить по изображению каждого класса\n",
        "    fig, axs = plt.subplots(1, len(ds.classes), figsize=(20, 5))\n",
        "    # Итерируемся по каждому классу\n",
        "    for cls_num, name in ds.classes.items():\n",
        "        # Берём n-е изображение класса в датасете\n",
        "        i = np.argwhere(ds.y == cls_num)[n][0]\n",
        "        # Рисуем изображение\n",
        "        ax = axs[cls_num]\n",
        "        X, _ = ds[i]\n",
        "        X = X.to(device).unsqueeze(0)\n",
        "        # Получаем изображение с патчем и вероятности того, что на изображении — кот\n",
        "        with torch.no_grad():\n",
        "          logits, patched_X = model(X)\n",
        "          prob = round(F.softmax(logits, dim=-1)[:, label_cls].cpu().item() * 100, 2)\n",
        "        X = model.to_img(model.denormalize(patched_X)).squeeze().permute(1, 2, 0).cpu().numpy()\n",
        "        ax.imshow(X, cmap=\"Greys_r\")\n",
        "        ax.set_title(f'{name} {prob}%')\n",
        "        ax.axis(\"off\")\n",
        "    plt.show()\n",
        "\n",
        "show_ds_with_probs(train_set, 1)"
      ],
      "metadata": {
        "id": "PDphIUpdiHiA"
      },
      "execution_count": null,
      "outputs": []
    },
    {
      "cell_type": "markdown",
      "source": [
        "Опиши полученные визуализации изображений с патчами. Хорошо ли работает патч?"
      ],
      "metadata": {
        "id": "t7pa2AKfK-w5"
      }
    },
    {
      "cell_type": "markdown",
      "source": [
        "#### Ответ для ассистента"
      ],
      "metadata": {
        "id": "3a1O4Q4lLLgM"
      }
    },
    {
      "cell_type": "markdown",
      "source": [
        "Опиши полученные визуализации изображений с патчами. Хорошо ли работает патч?\n",
        "\n",
        "Патч на изображениях очень маленький, но вероятности, что перед нами на каждой картинке — кот, он явно меняет. Как минимум для картинки с боксёром и многоножки вероятности кота очень большие."
      ],
      "metadata": {
        "id": "5p6YNMhGkGek"
      }
    },
    {
      "cell_type": "markdown",
      "source": [
        "Попробуем с патчем побольше."
      ],
      "metadata": {
        "id": "OMSio8iNLP4i"
      }
    },
    {
      "cell_type": "markdown",
      "source": [
        "#### Твоё решение"
      ],
      "metadata": {
        "id": "_ix3SMcXLTXa"
      }
    },
    {
      "cell_type": "code",
      "source": [
        "model = PatchMobileNet(model_cls, patch_size=Возьми патч побольше)\n",
        "# Параметров очень мало, поэтому можно делать lr побольше\n",
        "optimizer = Adam([model.patch], maximize=True, lr=Задай скорость обучения) # Оптимизируемся в сторону максимума, потому что хотим увеличивать вероятность\n",
        "epochs = Задай количество эпох"
      ],
      "metadata": {
        "id": "YJHGUGHbLR_X"
      },
      "execution_count": null,
      "outputs": []
    },
    {
      "cell_type": "code",
      "source": [
        "label_cls = 6 # tabby\n",
        "train_and_validate(epochs, model, label_cls, optimizer, device, train_loader, test_loader, save_every=1, naming='_cat')"
      ],
      "metadata": {
        "id": "3Dr4s9OQLXP7"
      },
      "execution_count": null,
      "outputs": []
    },
    {
      "cell_type": "code",
      "source": [
        "# Визуализируем полученный патч\n",
        "plt.imshow(model.to_img(model.denormalize(model.patch)).cpu().detach().squeeze().permute(1, 2, 0))\n",
        "plt.show()"
      ],
      "metadata": {
        "id": "Avt0eYxkpXya"
      },
      "execution_count": null,
      "outputs": []
    },
    {
      "cell_type": "markdown",
      "source": [
        "Стал ли патч выглядеть лучше?"
      ],
      "metadata": {
        "id": "AdBNzQsjLkFu"
      }
    },
    {
      "cell_type": "markdown",
      "source": [
        "#### Ответ для ассистента\n",
        "\n",
        "Стал ли патч выглядеть лучше?\n",
        "\n",
        "Разных форм стало больше, возможно, кто-то даже разглядит «котовость» (как будто бы виднеется кот вполоборота), но выглядит довольно сомнительно."
      ],
      "metadata": {
        "id": "ziSuj90NLmZH"
      }
    },
    {
      "cell_type": "markdown",
      "source": [
        "Судя по статьям, для некоторых классов получается выучить патч, который действительно похож на объект соответствующего класса, но далеко не всегда.\n",
        "\n",
        "В статьях про патчи обычно используют более большие нейросети, изображения с более высоким разрешением и патчи побольше. Возможно, в этом и кроется секрет интерпретируемых с точки зрения человека патчей."
      ],
      "metadata": {
        "id": "lc1aPLIZ9W6P"
      }
    },
    {
      "cell_type": "code",
      "source": [
        "# Можно почитать, что здесь происходит, но это не особо важно. Просто функция для отрисовки изображений\n",
        "# Немного изменили её по сравнению с началом ДЗ, чтобы дорисовать патчи и напечатать вероятности\n",
        "def show_ds_with_probs(ds, n=0): # Принимает датасет и порядковый номер изображения из класса\n",
        "    # Хотим получить по изображению каждого класса\n",
        "    fig, axs = plt.subplots(1, len(ds.classes), figsize=(20, 5))\n",
        "    # Итерируемся по каждому классу\n",
        "    for cls_num, name in ds.classes.items():\n",
        "        # Берём n-е изображение класса в датасете\n",
        "        i = np.argwhere(ds.y == cls_num)[n][0]\n",
        "        # Рисуем изображение\n",
        "        ax = axs[cls_num]\n",
        "        X, _ = ds[i]\n",
        "        X = X.to(device).unsqueeze(0)\n",
        "        # Получаем изображение с патчем и вероятности для него\n",
        "        with torch.no_grad():\n",
        "          logits, patched_X = model(X)\n",
        "          prob = round(F.softmax(logits, dim=-1)[:, label_cls].cpu().item() * 100, 2)\n",
        "        X = model.to_img(model.denormalize(patched_X)).squeeze().permute(1, 2, 0).cpu().numpy()\n",
        "        ax.imshow(X, cmap=\"Greys_r\")\n",
        "        ax.set_title(f'{name} {prob}%')\n",
        "        ax.axis(\"off\")\n",
        "    plt.show()\n",
        "\n",
        "show_ds_with_probs(train_set, 1)"
      ],
      "metadata": {
        "id": "C2zcvgSWpkFK"
      },
      "execution_count": null,
      "outputs": []
    },
    {
      "cell_type": "markdown",
      "source": [
        "Стало ли лучше?"
      ],
      "metadata": {
        "id": "bJHp5lFQMT8t"
      }
    }
  ]
}